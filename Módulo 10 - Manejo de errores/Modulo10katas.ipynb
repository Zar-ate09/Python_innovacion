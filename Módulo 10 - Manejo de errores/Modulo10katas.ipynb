{
 "cells": [
  {
   "cell_type": "code",
   "execution_count": 20,
   "metadata": {},
   "outputs": [],
   "source": [
    "def agua_restante(astronautas, agua_restante, dias_restantes):\n",
    "    uso_diario = astronautas * 11\n",
    "    uso_total = uso_diario * dias_restantes\n",
    "    agua_total_restante = agua_restante - uso_total\n",
    "    return f\"El agua restante alcanza para {dias_restantes} dias, es: {agua_total_restante} litros\""
   ]
  },
  {
   "cell_type": "code",
   "execution_count": 21,
   "metadata": {},
   "outputs": [
    {
     "data": {
      "text/plain": [
       "'El agua restante alcanza para 2 dias, es: -10 litros'"
      ]
     },
     "execution_count": 21,
     "metadata": {},
     "output_type": "execute_result"
    }
   ],
   "source": [
    "agua_restante(5,100,2)"
   ]
  },
  {
   "cell_type": "code",
   "execution_count": 22,
   "metadata": {},
   "outputs": [],
   "source": [
    "def agua_restante(astronautas, agua_restante, dias_restantes):\n",
    "    uso_diario = astronautas * 11\n",
    "    uso_total = uso_diario * dias_restantes\n",
    "    agua_total_restante = agua_restante - uso_total\n",
    "    if agua_total_restante <0:\n",
    "        raise RuntimeError(f\"No hay sufiente agua para {astronautas} astronautas, para los {dias_restantes} dias!\")\n",
    "    \n",
    "    return f\"El agua restante alcanza para {dias_restantes} dias, es: {agua_total_restante} litros\""
   ]
  },
  {
   "cell_type": "code",
   "execution_count": 23,
   "metadata": {},
   "outputs": [
    {
     "ename": "RuntimeError",
     "evalue": "No hay sufiente agua para 5 astronautas, para los 2 dias!",
     "output_type": "error",
     "traceback": [
      "\u001b[1;31m---------------------------------------------------------------------------\u001b[0m",
      "\u001b[1;31mRuntimeError\u001b[0m                              Traceback (most recent call last)",
      "\u001b[1;32md:\\JZS\\Cursos y Escuela\\Cursos\\Innovaccion\\Curso Pyton\\Módulo 10 - Manejo de errores\\Modulo10katas.ipynb Cell 4'\u001b[0m in \u001b[0;36m<module>\u001b[1;34m\u001b[0m\n\u001b[1;32m----> <a href='vscode-notebook-cell:/d%3A/JZS/Cursos%20y%20Escuela/Cursos/Innovaccion/Curso%20Pyton/M%C3%B3dulo%2010%20-%20Manejo%20de%20errores/Modulo10katas.ipynb#ch0000012?line=0'>1</a>\u001b[0m agua_restante(\u001b[39m5\u001b[39;49m,\u001b[39m100\u001b[39;49m,\u001b[39m2\u001b[39;49m)\n",
      "\u001b[1;32md:\\JZS\\Cursos y Escuela\\Cursos\\Innovaccion\\Curso Pyton\\Módulo 10 - Manejo de errores\\Modulo10katas.ipynb Cell 3'\u001b[0m in \u001b[0;36magua_restante\u001b[1;34m(astronautas, agua_restante, dias_restantes)\u001b[0m\n\u001b[0;32m      <a href='vscode-notebook-cell:/d%3A/JZS/Cursos%20y%20Escuela/Cursos/Innovaccion/Curso%20Pyton/M%C3%B3dulo%2010%20-%20Manejo%20de%20errores/Modulo10katas.ipynb#ch0000011?line=3'>4</a>\u001b[0m agua_total_restante \u001b[39m=\u001b[39m agua_restante \u001b[39m-\u001b[39m uso_total\n\u001b[0;32m      <a href='vscode-notebook-cell:/d%3A/JZS/Cursos%20y%20Escuela/Cursos/Innovaccion/Curso%20Pyton/M%C3%B3dulo%2010%20-%20Manejo%20de%20errores/Modulo10katas.ipynb#ch0000011?line=4'>5</a>\u001b[0m \u001b[39mif\u001b[39;00m agua_total_restante \u001b[39m<\u001b[39m\u001b[39m0\u001b[39m:\n\u001b[1;32m----> <a href='vscode-notebook-cell:/d%3A/JZS/Cursos%20y%20Escuela/Cursos/Innovaccion/Curso%20Pyton/M%C3%B3dulo%2010%20-%20Manejo%20de%20errores/Modulo10katas.ipynb#ch0000011?line=5'>6</a>\u001b[0m     \u001b[39mraise\u001b[39;00m \u001b[39mRuntimeError\u001b[39;00m(\u001b[39mf\u001b[39m\u001b[39m\"\u001b[39m\u001b[39mNo hay sufiente agua para \u001b[39m\u001b[39m{\u001b[39;00mastronautas\u001b[39m}\u001b[39;00m\u001b[39m astronautas, para los \u001b[39m\u001b[39m{\u001b[39;00mdias_restantes\u001b[39m}\u001b[39;00m\u001b[39m dias!\u001b[39m\u001b[39m\"\u001b[39m)\n\u001b[0;32m      <a href='vscode-notebook-cell:/d%3A/JZS/Cursos%20y%20Escuela/Cursos/Innovaccion/Curso%20Pyton/M%C3%B3dulo%2010%20-%20Manejo%20de%20errores/Modulo10katas.ipynb#ch0000011?line=7'>8</a>\u001b[0m \u001b[39mreturn\u001b[39;00m \u001b[39mf\u001b[39m\u001b[39m\"\u001b[39m\u001b[39mEl agua restante alcanza para \u001b[39m\u001b[39m{\u001b[39;00mdias_restantes\u001b[39m}\u001b[39;00m\u001b[39m dias, es: \u001b[39m\u001b[39m{\u001b[39;00magua_total_restante\u001b[39m}\u001b[39;00m\u001b[39m litros\u001b[39m\u001b[39m\"\u001b[39m\n",
      "\u001b[1;31mRuntimeError\u001b[0m: No hay sufiente agua para 5 astronautas, para los 2 dias!"
     ]
    }
   ],
   "source": [
    "agua_restante(5,100,2)"
   ]
  },
  {
   "cell_type": "code",
   "execution_count": 24,
   "metadata": {},
   "outputs": [
    {
     "name": "stdout",
     "output_type": "stream",
     "text": [
      "No hay sufiente agua para 5 astronautas, para los 2 dias!\n"
     ]
    }
   ],
   "source": [
    "try:\n",
    "    agua_restante(5,100,2)\n",
    "except RuntimeError as err:\n",
    "    print(err)"
   ]
  },
  {
   "cell_type": "code",
   "execution_count": 25,
   "metadata": {},
   "outputs": [
    {
     "ename": "TypeError",
     "evalue": "can't multiply sequence by non-int of type 'NoneType'",
     "output_type": "error",
     "traceback": [
      "\u001b[1;31m---------------------------------------------------------------------------\u001b[0m",
      "\u001b[1;31mTypeError\u001b[0m                                 Traceback (most recent call last)",
      "\u001b[1;32md:\\JZS\\Cursos y Escuela\\Cursos\\Innovaccion\\Curso Pyton\\Módulo 10 - Manejo de errores\\Modulo10katas.ipynb Cell 6'\u001b[0m in \u001b[0;36m<module>\u001b[1;34m\u001b[0m\n\u001b[1;32m----> <a href='vscode-notebook-cell:/d%3A/JZS/Cursos%20y%20Escuela/Cursos/Innovaccion/Curso%20Pyton/M%C3%B3dulo%2010%20-%20Manejo%20de%20errores/Modulo10katas.ipynb#ch0000014?line=0'>1</a>\u001b[0m agua_restante(\u001b[39m\"\u001b[39;49m\u001b[39m3\u001b[39;49m\u001b[39m\"\u001b[39;49m,\u001b[39m\"\u001b[39;49m\u001b[39m200\u001b[39;49m\u001b[39m\"\u001b[39;49m,\u001b[39mNone\u001b[39;49;00m)\n",
      "\u001b[1;32md:\\JZS\\Cursos y Escuela\\Cursos\\Innovaccion\\Curso Pyton\\Módulo 10 - Manejo de errores\\Modulo10katas.ipynb Cell 3'\u001b[0m in \u001b[0;36magua_restante\u001b[1;34m(astronautas, agua_restante, dias_restantes)\u001b[0m\n\u001b[0;32m      <a href='vscode-notebook-cell:/d%3A/JZS/Cursos%20y%20Escuela/Cursos/Innovaccion/Curso%20Pyton/M%C3%B3dulo%2010%20-%20Manejo%20de%20errores/Modulo10katas.ipynb#ch0000011?line=0'>1</a>\u001b[0m \u001b[39mdef\u001b[39;00m \u001b[39magua_restante\u001b[39m(astronautas, agua_restante, dias_restantes):\n\u001b[0;32m      <a href='vscode-notebook-cell:/d%3A/JZS/Cursos%20y%20Escuela/Cursos/Innovaccion/Curso%20Pyton/M%C3%B3dulo%2010%20-%20Manejo%20de%20errores/Modulo10katas.ipynb#ch0000011?line=1'>2</a>\u001b[0m     uso_diario \u001b[39m=\u001b[39m astronautas \u001b[39m*\u001b[39m \u001b[39m11\u001b[39m\n\u001b[1;32m----> <a href='vscode-notebook-cell:/d%3A/JZS/Cursos%20y%20Escuela/Cursos/Innovaccion/Curso%20Pyton/M%C3%B3dulo%2010%20-%20Manejo%20de%20errores/Modulo10katas.ipynb#ch0000011?line=2'>3</a>\u001b[0m     uso_total \u001b[39m=\u001b[39m uso_diario \u001b[39m*\u001b[39;49m dias_restantes\n\u001b[0;32m      <a href='vscode-notebook-cell:/d%3A/JZS/Cursos%20y%20Escuela/Cursos/Innovaccion/Curso%20Pyton/M%C3%B3dulo%2010%20-%20Manejo%20de%20errores/Modulo10katas.ipynb#ch0000011?line=3'>4</a>\u001b[0m     agua_total_restante \u001b[39m=\u001b[39m agua_restante \u001b[39m-\u001b[39m uso_total\n\u001b[0;32m      <a href='vscode-notebook-cell:/d%3A/JZS/Cursos%20y%20Escuela/Cursos/Innovaccion/Curso%20Pyton/M%C3%B3dulo%2010%20-%20Manejo%20de%20errores/Modulo10katas.ipynb#ch0000011?line=4'>5</a>\u001b[0m     \u001b[39mif\u001b[39;00m agua_total_restante \u001b[39m<\u001b[39m\u001b[39m0\u001b[39m:\n",
      "\u001b[1;31mTypeError\u001b[0m: can't multiply sequence by non-int of type 'NoneType'"
     ]
    }
   ],
   "source": [
    "agua_restante(\"3\",\"200\",None)"
   ]
  },
  {
   "cell_type": "code",
   "execution_count": 26,
   "metadata": {},
   "outputs": [],
   "source": [
    "def agua_restante(astronautas, agua_restante, dias_restantes):\n",
    "    for argumento in [astronautas, agua_restante, dias_restantes]:\n",
    "        try:\n",
    "            argumento/10\n",
    "        except TypeError:\n",
    "            raise TypeError(f\"Todos los parametros deben ser enteros, pero recibimos: '{argumento}'\")\n",
    "    uso_diario = astronautas * 11\n",
    "    uso_total = uso_diario * dias_restantes\n",
    "    agua_total_restante = agua_restante - uso_total\n",
    "    if agua_total_restante <0:\n",
    "        raise RuntimeError(f\"No hay sufiente agua para {astronautas} astronautas, para los {dias_restantes} dias!\")\n",
    "    \n",
    "    return f\"El agua restante alcanza para {dias_restantes} dias, es: {agua_total_restante} litros\""
   ]
  },
  {
   "cell_type": "code",
   "execution_count": 27,
   "metadata": {},
   "outputs": [
    {
     "ename": "TypeError",
     "evalue": "Todos los parametros deben ser enteros, pero recibimos: '3'",
     "output_type": "error",
     "traceback": [
      "\u001b[1;31m---------------------------------------------------------------------------\u001b[0m",
      "\u001b[1;31mTypeError\u001b[0m                                 Traceback (most recent call last)",
      "\u001b[1;32md:\\JZS\\Cursos y Escuela\\Cursos\\Innovaccion\\Curso Pyton\\Módulo 10 - Manejo de errores\\Modulo10katas.ipynb Cell 7'\u001b[0m in \u001b[0;36magua_restante\u001b[1;34m(astronautas, agua_restante, dias_restantes)\u001b[0m\n\u001b[0;32m      <a href='vscode-notebook-cell:/d%3A/JZS/Cursos%20y%20Escuela/Cursos/Innovaccion/Curso%20Pyton/M%C3%B3dulo%2010%20-%20Manejo%20de%20errores/Modulo10katas.ipynb#ch0000015?line=2'>3</a>\u001b[0m \u001b[39mtry\u001b[39;00m:\n\u001b[1;32m----> <a href='vscode-notebook-cell:/d%3A/JZS/Cursos%20y%20Escuela/Cursos/Innovaccion/Curso%20Pyton/M%C3%B3dulo%2010%20-%20Manejo%20de%20errores/Modulo10katas.ipynb#ch0000015?line=3'>4</a>\u001b[0m     argumento\u001b[39m/\u001b[39;49m\u001b[39m10\u001b[39;49m\n\u001b[0;32m      <a href='vscode-notebook-cell:/d%3A/JZS/Cursos%20y%20Escuela/Cursos/Innovaccion/Curso%20Pyton/M%C3%B3dulo%2010%20-%20Manejo%20de%20errores/Modulo10katas.ipynb#ch0000015?line=4'>5</a>\u001b[0m \u001b[39mexcept\u001b[39;00m \u001b[39mTypeError\u001b[39;00m:\n",
      "\u001b[1;31mTypeError\u001b[0m: unsupported operand type(s) for /: 'str' and 'int'",
      "\nDuring handling of the above exception, another exception occurred:\n",
      "\u001b[1;31mTypeError\u001b[0m                                 Traceback (most recent call last)",
      "\u001b[1;32md:\\JZS\\Cursos y Escuela\\Cursos\\Innovaccion\\Curso Pyton\\Módulo 10 - Manejo de errores\\Modulo10katas.ipynb Cell 8'\u001b[0m in \u001b[0;36m<module>\u001b[1;34m\u001b[0m\n\u001b[1;32m----> <a href='vscode-notebook-cell:/d%3A/JZS/Cursos%20y%20Escuela/Cursos/Innovaccion/Curso%20Pyton/M%C3%B3dulo%2010%20-%20Manejo%20de%20errores/Modulo10katas.ipynb#ch0000016?line=0'>1</a>\u001b[0m agua_restante(\u001b[39m\"\u001b[39;49m\u001b[39m3\u001b[39;49m\u001b[39m\"\u001b[39;49m,\u001b[39m\"\u001b[39;49m\u001b[39m200\u001b[39;49m\u001b[39m\"\u001b[39;49m,\u001b[39mNone\u001b[39;49;00m)\n",
      "\u001b[1;32md:\\JZS\\Cursos y Escuela\\Cursos\\Innovaccion\\Curso Pyton\\Módulo 10 - Manejo de errores\\Modulo10katas.ipynb Cell 7'\u001b[0m in \u001b[0;36magua_restante\u001b[1;34m(astronautas, agua_restante, dias_restantes)\u001b[0m\n\u001b[0;32m      <a href='vscode-notebook-cell:/d%3A/JZS/Cursos%20y%20Escuela/Cursos/Innovaccion/Curso%20Pyton/M%C3%B3dulo%2010%20-%20Manejo%20de%20errores/Modulo10katas.ipynb#ch0000015?line=3'>4</a>\u001b[0m         argumento\u001b[39m/\u001b[39m\u001b[39m10\u001b[39m\n\u001b[0;32m      <a href='vscode-notebook-cell:/d%3A/JZS/Cursos%20y%20Escuela/Cursos/Innovaccion/Curso%20Pyton/M%C3%B3dulo%2010%20-%20Manejo%20de%20errores/Modulo10katas.ipynb#ch0000015?line=4'>5</a>\u001b[0m     \u001b[39mexcept\u001b[39;00m \u001b[39mTypeError\u001b[39;00m:\n\u001b[1;32m----> <a href='vscode-notebook-cell:/d%3A/JZS/Cursos%20y%20Escuela/Cursos/Innovaccion/Curso%20Pyton/M%C3%B3dulo%2010%20-%20Manejo%20de%20errores/Modulo10katas.ipynb#ch0000015?line=5'>6</a>\u001b[0m         \u001b[39mraise\u001b[39;00m \u001b[39mTypeError\u001b[39;00m(\u001b[39mf\u001b[39m\u001b[39m\"\u001b[39m\u001b[39mTodos los parametros deben ser enteros, pero recibimos: \u001b[39m\u001b[39m'\u001b[39m\u001b[39m{\u001b[39;00margumento\u001b[39m}\u001b[39;00m\u001b[39m'\u001b[39m\u001b[39m\"\u001b[39m)\n\u001b[0;32m      <a href='vscode-notebook-cell:/d%3A/JZS/Cursos%20y%20Escuela/Cursos/Innovaccion/Curso%20Pyton/M%C3%B3dulo%2010%20-%20Manejo%20de%20errores/Modulo10katas.ipynb#ch0000015?line=6'>7</a>\u001b[0m uso_diario \u001b[39m=\u001b[39m astronautas \u001b[39m*\u001b[39m \u001b[39m11\u001b[39m\n\u001b[0;32m      <a href='vscode-notebook-cell:/d%3A/JZS/Cursos%20y%20Escuela/Cursos/Innovaccion/Curso%20Pyton/M%C3%B3dulo%2010%20-%20Manejo%20de%20errores/Modulo10katas.ipynb#ch0000015?line=7'>8</a>\u001b[0m uso_total \u001b[39m=\u001b[39m uso_diario \u001b[39m*\u001b[39m dias_restantes\n",
      "\u001b[1;31mTypeError\u001b[0m: Todos los parametros deben ser enteros, pero recibimos: '3'"
     ]
    }
   ],
   "source": [
    "agua_restante(\"3\",\"200\",None)"
   ]
  }
 ],
 "metadata": {
  "interpreter": {
   "hash": "2be5faf79681da6f2a61fdfdd5405d65d042280f7fba6178067603e3a2925119"
  },
  "kernelspec": {
   "display_name": "Python 3.10.0 64-bit",
   "language": "python",
   "name": "python3"
  },
  "language_info": {
   "codemirror_mode": {
    "name": "ipython",
    "version": 3
   },
   "file_extension": ".py",
   "mimetype": "text/x-python",
   "name": "python",
   "nbconvert_exporter": "python",
   "pygments_lexer": "ipython3",
   "version": "3.10.0"
  },
  "orig_nbformat": 4
 },
 "nbformat": 4,
 "nbformat_minor": 2
}
